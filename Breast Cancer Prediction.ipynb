{
 "cells": [
  {
   "cell_type": "code",
   "execution_count": 4,
   "id": "e1228e47",
   "metadata": {
    "scrolled": false
   },
   "outputs": [
    {
     "name": "stdout",
     "output_type": "stream",
     "text": [
      "Int64Index([ 70,  84, 131, 172, 176, 204, 217, 245, 260, 284, 359, 360, 365,\n",
      "            399, 492, 514, 528, 545, 589, 607, 610, 647, 661, 668, 669, 680,\n",
      "            690, 695],\n",
      "           dtype='int64')\n",
      "     1000025  5   1  1.1  1.2  2 1.3   3  1.4  1.5  2.1\n",
      "0    1002945  5   4    4    5  7  10   3    2    1    2\n",
      "1    1015425  3   1    1    1  2   2   3    1    1    2\n",
      "2    1016277  6   8    8    1  3   4   3    7    1    2\n",
      "3    1017023  4   1    1    3  2   1   3    1    1    2\n",
      "4    1017122  8  10   10    8  7  10   9    7    1    4\n",
      "..       ... ..  ..  ...  ... ..  ..  ..  ...  ...  ...\n",
      "692   763235  3   1    1    1  2   1   2    1    2    2\n",
      "693   776715  3   1    1    1  3   2   1    1    1    2\n",
      "694   841769  2   1    1    1  2   1   1    1    1    2\n",
      "696   897471  4   8    6    4  3   4  10    6    1    4\n",
      "697   897471  4   8    8    5  4   5  10    4    1    4\n",
      "\n",
      "[670 rows x 11 columns]\n"
     ]
    }
   ],
   "source": [
    "import numpy as np\n",
    "import pandas as pd\n",
    "from sklearn.covariance import EllipticEnvelope\n",
    "f1=pd.read_csv(r\"C:\\Users\\RAJDEEP\\Downloads\\ML\\paperpublication\\brc.data\")\n",
    "f1.head()\n",
    "X_train=f1.iloc[:,0:3]\n",
    "#print(X_train.shape)\n",
    "ee = EllipticEnvelope(contamination=0.04)\n",
    "yhat = ee.fit_predict(X_train)\n",
    "#print(yhat)\n",
    "data=pd.DataFrame({'Anomaly':yhat})\n",
    "#data.head(20)\n",
    "f2=pd.concat([f1,data],axis=1)\n",
    "#print(f2)\n",
    "index_names=f2[f2['Anomaly']==-1].index\n",
    "print(index_names)\n",
    "f1.drop(index_names, inplace = True)\n",
    "print(f1)"
   ]
  },
  {
   "cell_type": "code",
   "execution_count": 2,
   "id": "919c1740",
   "metadata": {},
   "outputs": [
    {
     "name": "stdout",
     "output_type": "stream",
     "text": [
      "0.9353233830845771\n"
     ]
    },
    {
     "data": {
      "text/html": [
       "<div>\n",
       "<style scoped>\n",
       "    .dataframe tbody tr th:only-of-type {\n",
       "        vertical-align: middle;\n",
       "    }\n",
       "\n",
       "    .dataframe tbody tr th {\n",
       "        vertical-align: top;\n",
       "    }\n",
       "\n",
       "    .dataframe thead th {\n",
       "        text-align: right;\n",
       "    }\n",
       "</style>\n",
       "<table border=\"1\" class=\"dataframe\">\n",
       "  <thead>\n",
       "    <tr style=\"text-align: right;\">\n",
       "      <th></th>\n",
       "      <th>1000025</th>\n",
       "      <th>5</th>\n",
       "      <th>1</th>\n",
       "      <th>1.1</th>\n",
       "      <th>1.2</th>\n",
       "      <th>2</th>\n",
       "      <th>3</th>\n",
       "      <th>1.4</th>\n",
       "    </tr>\n",
       "  </thead>\n",
       "  <tbody>\n",
       "    <tr>\n",
       "      <th>18</th>\n",
       "      <td>1050718</td>\n",
       "      <td>6</td>\n",
       "      <td>1</td>\n",
       "      <td>1</td>\n",
       "      <td>1</td>\n",
       "      <td>2</td>\n",
       "      <td>3</td>\n",
       "      <td>1</td>\n",
       "    </tr>\n",
       "    <tr>\n",
       "      <th>484</th>\n",
       "      <td>1002025</td>\n",
       "      <td>1</td>\n",
       "      <td>1</td>\n",
       "      <td>1</td>\n",
       "      <td>3</td>\n",
       "      <td>1</td>\n",
       "      <td>1</td>\n",
       "      <td>1</td>\n",
       "    </tr>\n",
       "    <tr>\n",
       "      <th>292</th>\n",
       "      <td>601265</td>\n",
       "      <td>10</td>\n",
       "      <td>4</td>\n",
       "      <td>4</td>\n",
       "      <td>6</td>\n",
       "      <td>2</td>\n",
       "      <td>2</td>\n",
       "      <td>3</td>\n",
       "    </tr>\n",
       "    <tr>\n",
       "      <th>30</th>\n",
       "      <td>1071760</td>\n",
       "      <td>2</td>\n",
       "      <td>1</td>\n",
       "      <td>1</td>\n",
       "      <td>1</td>\n",
       "      <td>2</td>\n",
       "      <td>3</td>\n",
       "      <td>1</td>\n",
       "    </tr>\n",
       "    <tr>\n",
       "      <th>0</th>\n",
       "      <td>1002945</td>\n",
       "      <td>5</td>\n",
       "      <td>4</td>\n",
       "      <td>4</td>\n",
       "      <td>5</td>\n",
       "      <td>7</td>\n",
       "      <td>3</td>\n",
       "      <td>2</td>\n",
       "    </tr>\n",
       "    <tr>\n",
       "      <th>...</th>\n",
       "      <td>...</td>\n",
       "      <td>...</td>\n",
       "      <td>...</td>\n",
       "      <td>...</td>\n",
       "      <td>...</td>\n",
       "      <td>...</td>\n",
       "      <td>...</td>\n",
       "      <td>...</td>\n",
       "    </tr>\n",
       "    <tr>\n",
       "      <th>100</th>\n",
       "      <td>1167439</td>\n",
       "      <td>2</td>\n",
       "      <td>3</td>\n",
       "      <td>4</td>\n",
       "      <td>4</td>\n",
       "      <td>2</td>\n",
       "      <td>2</td>\n",
       "      <td>5</td>\n",
       "    </tr>\n",
       "    <tr>\n",
       "      <th>332</th>\n",
       "      <td>785208</td>\n",
       "      <td>5</td>\n",
       "      <td>4</td>\n",
       "      <td>6</td>\n",
       "      <td>6</td>\n",
       "      <td>4</td>\n",
       "      <td>4</td>\n",
       "      <td>3</td>\n",
       "    </tr>\n",
       "    <tr>\n",
       "      <th>395</th>\n",
       "      <td>1176187</td>\n",
       "      <td>3</td>\n",
       "      <td>1</td>\n",
       "      <td>1</td>\n",
       "      <td>1</td>\n",
       "      <td>2</td>\n",
       "      <td>3</td>\n",
       "      <td>1</td>\n",
       "    </tr>\n",
       "    <tr>\n",
       "      <th>378</th>\n",
       "      <td>685977</td>\n",
       "      <td>5</td>\n",
       "      <td>3</td>\n",
       "      <td>4</td>\n",
       "      <td>1</td>\n",
       "      <td>4</td>\n",
       "      <td>3</td>\n",
       "      <td>1</td>\n",
       "    </tr>\n",
       "    <tr>\n",
       "      <th>526</th>\n",
       "      <td>798429</td>\n",
       "      <td>4</td>\n",
       "      <td>1</td>\n",
       "      <td>1</td>\n",
       "      <td>1</td>\n",
       "      <td>2</td>\n",
       "      <td>3</td>\n",
       "      <td>1</td>\n",
       "    </tr>\n",
       "  </tbody>\n",
       "</table>\n",
       "<p>469 rows × 8 columns</p>\n",
       "</div>"
      ],
      "text/plain": [
       "     1000025   5  1  1.1  1.2  2  3  1.4\n",
       "18   1050718   6  1    1    1  2  3    1\n",
       "484  1002025   1  1    1    3  1  1    1\n",
       "292   601265  10  4    4    6  2  2    3\n",
       "30   1071760   2  1    1    1  2  3    1\n",
       "0    1002945   5  4    4    5  7  3    2\n",
       "..       ...  .. ..  ...  ... .. ..  ...\n",
       "100  1167439   2  3    4    4  2  2    5\n",
       "332   785208   5  4    6    6  4  4    3\n",
       "395  1176187   3  1    1    1  2  3    1\n",
       "378   685977   5  3    4    1  4  3    1\n",
       "526   798429   4  1    1    1  2  3    1\n",
       "\n",
       "[469 rows x 8 columns]"
      ]
     },
     "execution_count": 2,
     "metadata": {},
     "output_type": "execute_result"
    }
   ],
   "source": [
    "import pandas as pd\n",
    "from sklearn.model_selection import train_test_split\n",
    "from sklearn.metrics import accuracy_score\n",
    "from sklearn.metrics import recall_score\n",
    "from sklearn.tree import DecisionTreeClassifier\n",
    "predictor=f1.iloc[:,0:9]\n",
    "predictors = predictor.drop(\"1.3\", axis=1)\n",
    "#print(predictors)\n",
    "target=f1.iloc[:,10]\n",
    "#print(target)\n",
    "predictors_train,predictors_test,target_train,target_test,=train_test_split(predictors,target,test_size=0.3,random_state=123)\n",
    "dtree_entropy=DecisionTreeClassifier(criterion=\"entropy\",random_state=200,max_depth=5,min_samples_leaf=8)\n",
    "model=dtree_entropy.fit(predictors_train,target_train)\n",
    "prediction=dtree_entropy.predict(predictors_test)\n",
    "acc=accuracy_score(target_test,prediction,normalize=True)\n",
    "print(acc)\n",
    "#print(target_test.shape)\n",
    "from sklearn.metrics import confusion_matrix\n",
    "recall_score(target_test,prediction, average='weighted')\n",
    "#predictors_train"
   ]
  },
  {
   "cell_type": "code",
   "execution_count": 6,
   "id": "fad87476",
   "metadata": {},
   "outputs": [
    {
     "data": {
      "text/plain": [
       "0.6557377049180327"
      ]
     },
     "execution_count": 6,
     "metadata": {},
     "output_type": "execute_result"
    }
   ],
   "source": [
    "import pandas as pd\n",
    "from sklearn.model_selection import train_test_split\n",
    "from sklearn.metrics import accuracy_score\n",
    "from sklearn.metrics import recall_score\n",
    "from sklearn.linear_model import LogisticRegression\n",
    "f1=pd.read_csv(r\"C:\\Users\\RAJDEEP\\Downloads\\ML\\paperpublication\\brc.data\")\n",
    "predictor=f1.iloc[:,0:10]\n",
    "predictors = predictor.drop(\"1.3\", axis=1)\n",
    "target=f1.iloc[:,10]\n",
    "predictors_train,target_train,predictors_test,target_test,=train_test_split(predictors,target,test_size=0.3, stratify=target,random_state=123)\n",
    "model = LogisticRegression()\n",
    "model.fit(predictors_train,predictors_test)\n",
    "predictors_train_prediction = model.predict(predictors_train)\n",
    "train_data_accuracy = accuracy_score(predictors_train_prediction,predictors_test)\n",
    "train_data_accuracy"
   ]
  },
  {
   "cell_type": "code",
   "execution_count": 4,
   "id": "8f7d3d67",
   "metadata": {},
   "outputs": [
    {
     "data": {
      "text/plain": [
       "0.6523809523809524"
      ]
     },
     "execution_count": 4,
     "metadata": {},
     "output_type": "execute_result"
    }
   ],
   "source": [
    "target_test_prediction = model.predict(target_train)\n",
    "test_data_accuracy = accuracy_score(target_test_prediction,target_test)\n",
    "test_data_accuracy"
   ]
  },
  {
   "cell_type": "code",
   "execution_count": 7,
   "id": "6c023647",
   "metadata": {},
   "outputs": [
    {
     "name": "stdout",
     "output_type": "stream",
     "text": [
      "Accuracy -  0.9238095238095239\n",
      "Precision -  0.9261904761904762\n",
      "Recall -  0.9238095238095239\n",
      "Fscore -  0.9226807760141092\n"
     ]
    }
   ],
   "source": [
    "import pandas as pd\n",
    "from sklearn.model_selection import train_test_split\n",
    "from sklearn.metrics import accuracy_score, f1_score, precision_score, recall_score, classification_report, confusion_matrix\n",
    "from sklearn.tree import DecisionTreeClassifier\n",
    "predictor=f1.iloc[:,0:10]\n",
    "predictors = predictor.drop(\"1.3\", axis=1)\n",
    "target=f1.iloc[:,10]\n",
    "predictors_train,predictors_test,target_train,target_test,=train_test_split(predictors,target,test_size=0.3,random_state=123)\n",
    "dtree_entropy=DecisionTreeClassifier(criterion=\"entropy\",random_state=100,max_depth=4,min_samples_leaf=5)\n",
    "model=dtree_entropy.fit(predictors_train,target_train)\n",
    "prediction=dtree_entropy.predict(predictors_test)\n",
    "acc=accuracy_score(target_test,prediction,normalize=True)\n",
    "print(\"Accuracy - \", acc)\n",
    "#print(target_test.shape)\n",
    "print(\"Precision - \", precision_score(target_test,prediction, average='weighted'))\n",
    "print(\"Recall - \", recall_score(target_test,prediction, average='weighted'))\n",
    "print(\"Fscore - \", f1_score(target_test,prediction, average='weighted'))"
   ]
  },
  {
   "cell_type": "code",
   "execution_count": null,
   "id": "672b3e37",
   "metadata": {},
   "outputs": [],
   "source": []
  },
  {
   "cell_type": "code",
   "execution_count": null,
   "id": "f0309fee",
   "metadata": {},
   "outputs": [],
   "source": []
  },
  {
   "cell_type": "code",
   "execution_count": null,
   "id": "4da4a7a3",
   "metadata": {},
   "outputs": [],
   "source": []
  },
  {
   "cell_type": "code",
   "execution_count": null,
   "id": "b24eaecd",
   "metadata": {},
   "outputs": [],
   "source": []
  },
  {
   "cell_type": "code",
   "execution_count": null,
   "id": "16591c1b",
   "metadata": {},
   "outputs": [],
   "source": []
  },
  {
   "cell_type": "code",
   "execution_count": null,
   "id": "b355dbdc",
   "metadata": {},
   "outputs": [],
   "source": []
  },
  {
   "cell_type": "code",
   "execution_count": null,
   "id": "1a4615e8",
   "metadata": {},
   "outputs": [],
   "source": []
  },
  {
   "cell_type": "code",
   "execution_count": null,
   "id": "5a3c4a35",
   "metadata": {},
   "outputs": [],
   "source": []
  }
 ],
 "metadata": {
  "kernelspec": {
   "display_name": "Python 3 (ipykernel)",
   "language": "python",
   "name": "python3"
  },
  "language_info": {
   "codemirror_mode": {
    "name": "ipython",
    "version": 3
   },
   "file_extension": ".py",
   "mimetype": "text/x-python",
   "name": "python",
   "nbconvert_exporter": "python",
   "pygments_lexer": "ipython3",
   "version": "3.10.0"
  }
 },
 "nbformat": 4,
 "nbformat_minor": 5
}
